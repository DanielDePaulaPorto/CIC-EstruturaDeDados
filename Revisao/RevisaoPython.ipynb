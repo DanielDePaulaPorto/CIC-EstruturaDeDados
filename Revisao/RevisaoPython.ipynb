{
 "cells": [
  {
   "cell_type": "markdown",
   "source": [
    "# REVISÃO DE PYTHON\n",
    "-----------------\n",
    "\n",
    "Daniel Porto\n",
    "\n",
    "Baseado em: https://www.freecodecamp.org/news/the-python-guide-for-beginners/\n",
    "\n",
    "-----------------\n",
    "\n",
    "Python é uma linguagem de programação interpretada, orientada a objetos, de alto nível e com semântica dinâmica.\n",
    "A simplicidade do Python reduz a manutenção de um programa. Python suporta módulos e pacotes, que encoraja a programação modularizada e reuso de códigos.\n",
    "\n",
    "É uma das linguagens que mais tem crescido devido sua compatibilidade (roda na maioria dos sistemas operacionais) e capacidade de auxiliar outras linguagens. Programas como Dropbox, Reddit e Instagram são escritos em Python.\n",
    "\n",
    "Python também é a linguagem mais popular para análise de dados e conquistou a comunidade científica.\n",
    "\n",
    "Python foi criada em 1990 por Guido Van Rossum no Centro de Matemática Stichting (CWI, veja http://www.cwi.nl) na Holanda como uma sucessora da linguagem ABC.\n",
    "\n",
    "A linguagem ABC foi desenhada para uso de não programadores, mas logo de início mostrou certas limitações e restrições.\n",
    "\n",
    "A maior reclamação dos primeiros alunos não programadores dessa linguagem era a presença de regras arbitrárias que as linguagens de programação haviam estabelecido tradicionalmente - muita coisa de baixo nível ainda era feita e não agradou o público.\n",
    "\n",
    "Guido então se lançou na tarefa de criar uma linguagem de script simples que possuísse algumas das melhores propriedades da ABC.\n",
    "\n",
    "Listas Python, dicionários, declarações básicas e uso obrigatório de indentação diferenciam Python da linguagem ABC.\n",
    "\n",
    "Guido pretendia que Python fosse uma segunda linguagem para programadores C ou C++ e não uma linguagem principal para programadores - o que mais tarde se tornou para os usuários de Python.\n",
    "\n",
    "#### Características:\n",
    "\n",
    "- linguagem de programação de alto nível\n",
    "- interpretada\n",
    "- modular\n",
    "- multiplataforma\n",
    "- orientada a objetos\n",
    "\n",
    "#### Para que é usada:\n",
    "\n",
    "- Scripting e automação\n",
    "- Desenvolvimento web\n",
    "- Enquadramento de testes\n",
    "- Big Data\n",
    "- Ciência de dados\n",
    "- Computação gráfica\n",
    "- Inteligência artificial\n",
    "\n",
    "-----------------------------\n",
    "\n",
    "## A sintaxe\n",
    "\n",
    "Python é conhecida por sua sintaxe limpa.\n",
    "A linguagem evita o uso de caracteres desnecessários para indicar alguma especificidade.\n",
    "\n",
    "---\n",
    "\n",
    "## Ponto-e-vírgula\n",
    "\n",
    "Python não usa ponto-e-vírgula para terminar linhas.\n",
    "Uma nova linha é suficiente para dizer ao interpretador que um novo comando está começando.\n",
    "\n",
    "O método print() é usado para exibir algo no console.\n",
    "Neste exemplo, temos dois comandos que exibirão as mensagens dentro de aspas simples."
   ],
   "metadata": {
    "collapsed": false
   },
   "id": "49b325c0fea91611"
  },
  {
   "cell_type": "code",
   "outputs": [],
   "source": [
    "print('Primeiro comando')\n",
    "print('Segundo comando')"
   ],
   "metadata": {
    "collapsed": false
   },
   "id": "c5967416e94ebad4",
   "execution_count": null
  },
  {
   "cell_type": "markdown",
   "source": [
    "Mas o seguinte está \"errado\" devido aos ponto-e-vírgula no final:"
   ],
   "metadata": {
    "collapsed": false
   },
   "id": "d40ebe7e15507ccf"
  },
  {
   "cell_type": "code",
   "outputs": [],
   "source": [
    "print('Primeiro comando');\n",
    "print('Segundo comando');"
   ],
   "metadata": {
    "collapsed": false
   },
   "id": "c587d88accd071cd",
   "execution_count": null
  },
  {
   "cell_type": "markdown",
   "source": [
    "---\n",
    "## Indentação\n",
    "\n",
    "Muitas linguagens utilizam chaves para definir o escopo.\n",
    "\n",
    "O interpretador Python usa apenas indentação para definir quando um escopo termina e outro começa. Isto significa que você tem que estar ciente dos espaços brancos no início de cada linha Eles têm significado e podem quebrar seu código se mal colocados.\n",
    "\n",
    "Esta definição de uma função funciona:"
   ],
   "metadata": {
    "collapsed": false
   },
   "id": "fb9953c53d39c32b"
  },
  {
   "cell_type": "code",
   "outputs": [],
   "source": [
    "def my_function():\n",
    "    print('Primeiro comando')"
   ],
   "metadata": {
    "collapsed": false
   },
   "id": "7d9af4922bac0021",
   "execution_count": null
  },
  {
   "cell_type": "markdown",
   "source": [
    "Essa aqui não funciona porque falta a recuo da segunda linha. Vai lançar um erro:"
   ],
   "metadata": {
    "collapsed": false
   },
   "id": "37b46d25cff919c4"
  },
  {
   "cell_type": "code",
   "outputs": [],
   "source": [
    "def my_function():\n",
    "print('Primeiro comando')"
   ],
   "metadata": {
    "collapsed": false
   },
   "id": "efe5e99cf195b1c8",
   "execution_count": null
  },
  {
   "cell_type": "markdown",
   "source": [
    "---\n",
    "## Variáveis e Case sensitivity\n",
    "\n",
    "Python é sensível a maiúsculas e minúsculas.\n",
    "Portanto, as variáveis nome e Nome não são a mesma coisa e armazenam valores diferentes."
   ],
   "metadata": {
    "collapsed": false
   },
   "id": "df2dc74e0a04b575"
  },
  {
   "cell_type": "code",
   "outputs": [],
   "source": [
    "nome = 'Daniel'\n",
    "Nome = 'Porto'"
   ],
   "metadata": {
    "collapsed": false
   },
   "id": "9b2bd70c011a5cc9",
   "execution_count": null
  },
  {
   "cell_type": "markdown",
   "source": [
    "As variáveis são facilmente criadas apenas atribuindo valores a elas usando o símbolo =\n",
    "Isto significa que nome armazena 'Daniel' e Nome armazena 'Porto'"
   ],
   "metadata": {
    "collapsed": false
   },
   "id": "88c5378746a3f3eb"
  },
  {
   "cell_type": "code",
   "outputs": [],
   "source": [
    "print('1:' + nome)\n",
    "print('2:' + Nome)"
   ],
   "metadata": {
    "collapsed": false
   },
   "id": "e8c38402b73a7f68",
   "execution_count": null
  },
  {
   "cell_type": "markdown",
   "source": [
    "---\n",
    "## Comentários\n",
    "\n",
    "Finalmente, para comentar algo no código, pode-se o caracter hash #\n",
    "A parte comentada não influencia o fluxo do programa"
   ],
   "metadata": {
    "collapsed": false
   },
   "id": "adfe043008d0ae3c"
  },
  {
   "cell_type": "code",
   "outputs": [],
   "source": [
    "# esta função imprime algo\n",
    "def my_function():\n",
    "    print('Primeiro comando')"
   ],
   "metadata": {
    "collapsed": false
   },
   "id": "5f1f409df94d12ce",
   "execution_count": null
  },
  {
   "cell_type": "markdown",
   "source": [
    "Quando você trabalha sozinho, talvez os comentários não sejam algo que você deva escrever. Afinal, no momento, você sabe os porquês de cada linha de código.\n",
    "Mas se novas pessoas entrarem no seu projeto após um ano e o projeto tiver 3 módulos, cada um com 10.000 linhas de código?\n",
    "\n",
    "Pense em pessoas que não sabem nada sobre seu programa e que, de repente, estão tendo que mantê-lo, consertá-lo ou adicionar novas funcionalidades.\n",
    "\n",
    "Lembre-se, não há uma solução única para um determinado problema. Sua maneira de resolver as coisas é sua e somente sua.\n",
    "\n",
    "Se você pedir a 10 pessoas para resolver o mesmo problema, elas encontrarão 10 soluções diferentes.\n",
    "\n",
    "Se você quiser que outros entendam totalmente seu raciocínio, um bom projeto de código é obrigatório, mas os comentários são parte integrante de qualquer base de código.\n",
    "\n",
    "\n",
    "#### Como escrever comentários em Python\n",
    "\n",
    "A sintaxe dos comentários em Python é simples: basta usar o símbolo hash na frente do texto que você quer que seja um comentário."
   ],
   "metadata": {
    "collapsed": false
   },
   "id": "f9db7bd08c393375"
  },
  {
   "cell_type": "code",
   "outputs": [],
   "source": [
    "# Este é um comentário e não influenciará o fluxo do meu programa"
   ],
   "metadata": {
    "collapsed": false
   },
   "id": "43fa62d477f9e567",
   "execution_count": null
  },
  {
   "cell_type": "markdown",
   "source": [
    "Você pode usar um comentário para explicar o que algum pedaço de código faz."
   ],
   "metadata": {
    "collapsed": false
   },
   "id": "f24855692a800a12"
  },
  {
   "cell_type": "code",
   "outputs": [],
   "source": [
    "# calcula a soma de quaisquer dois números dados\n",
    "a = b + c"
   ],
   "metadata": {
    "collapsed": false
   },
   "id": "7c723586021b33a8",
   "execution_count": null
  },
  {
   "cell_type": "markdown",
   "source": [
    "Existem outras formas de se comentar um código, podendo fazê-lo na frente da linha digitada,\n",
    "ou usando três aspas simples (''') ou três aspas duplas (“””) para comentários que ultrapassam mais de uma linha.\n",
    "Veja a seguir:"
   ],
   "metadata": {
    "collapsed": false
   },
   "id": "6aa6ed96901a976c"
  },
  {
   "cell_type": "code",
   "outputs": [],
   "source": [
    "soma = 5+5          # Criando uma variável de soma\n",
    "\n",
    "'''\n",
    "A partir do momento que coloquei três aspas simples, tudo o que eu escrever aqui dentro será considerado comentário.\n",
    "É muito útil quando queremos explicar alguma coisa, ou deixar instruções dentro ou antes do código.\n",
    "'''\n",
    "\n",
    "\"\"\"\n",
    "O mesmo ocorre com as aspas duplas.\n",
    "Você pode escolher o que você quer usar.\n",
    "A comunidade Python recomenda usar as aspas simples, mas fica a seu critério escolher.\n",
    "\"\"\""
   ],
   "metadata": {
    "collapsed": false
   },
   "id": "c54f4a742ddbfbd9",
   "execution_count": null
  },
  {
   "cell_type": "markdown",
   "source": [
    "---\n",
    "## Variáveis\n",
    "\n",
    "Em qualquer programa, você precisa armazenar e manipular dados para criar um fluxo ou alguma lógica específica. \n",
    "É para isso que servem as variáveis.\n",
    "\n",
    "Você pode ter uma variável para armazenar um nome, outra para armazenar a idade de uma pessoa, ou até mesmo usar um tipo mais complexo para armazenar tudo isso de uma vez, como um dicionário.\n",
    "\n",
    "Criar, também é conhecido como Declarar.\n",
    "Declarar uma variável é uma operação básica e direta em Python\n",
    "\n",
    "Basta escolher um nome e atribuir um valor a ele usando o símbolo ="
   ],
   "metadata": {
    "collapsed": false
   },
   "id": "a83083a37f136a35"
  },
  {
   "cell_type": "code",
   "outputs": [],
   "source": [
    "nome = 'Matuzalem'\n",
    "\n",
    "idade = 32"
   ],
   "metadata": {
    "collapsed": false
   },
   "id": "ae12345847e0d1d8",
   "execution_count": null
  },
  {
   "cell_type": "markdown",
   "source": [
    "Você pode usar a função print() para mostrar o valor de uma variável"
   ],
   "metadata": {
    "collapsed": false
   },
   "id": "dc68fb44ebb9ee29"
  },
  {
   "cell_type": "code",
   "outputs": [],
   "source": [
    "print(nome)\n",
    "\n",
    "print(idade)"
   ],
   "metadata": {
    "collapsed": false
   },
   "id": "973c47b6e0554ef1",
   "execution_count": null
  },
  {
   "cell_type": "markdown",
   "source": [
    "Note que em Python não há nenhuma palavra especial para declarar uma variável.\n",
    "No momento em que você atribui um valor, a variável é criada na memória.\n",
    "\n",
    "Python também tem tipagem dinâmica, o que significa que você não precisa dizer se sua variável é um texto ou um número, por exemplo.\n",
    "O interpretador infere a tipagem com base no valor atribuído.\n",
    "\n",
    "Se você precisar, você também pode redeclarar uma variável apenas alterando seu valor."
   ],
   "metadata": {
    "collapsed": false
   },
   "id": "10abfee4093471bc"
  },
  {
   "cell_type": "code",
   "outputs": [],
   "source": [
    "# declarando o nome como uma string\n",
    "nome = 'Matuzalem'\n",
    "\n",
    "# re-declarando o nome como um int\n",
    "nome = 32\n",
    "\n",
    "# imprimindo o valor de nome\n",
    "print(nome)"
   ],
   "metadata": {
    "collapsed": false
   },
   "id": "c6423e30f9781a88",
   "execution_count": null
  },
  {
   "cell_type": "markdown",
   "source": [
    "Tenha em mente, no entanto, que isto não é recomendado, uma vez que as variáveis devem ter significado e contexto.\n",
    "Se eu tiver uma variável chamada nome, não espero que ela tenha um número armazenado nela."
   ],
   "metadata": {
    "collapsed": false
   },
   "id": "df8d6e0991136352"
  },
  {
   "cell_type": "markdown",
   "source": [
    "---\n",
    "## Conveção de nomenclatura\n",
    "\n",
    "Use nomes significativos. Não use nomes aleatórios de variáveis como x ou y.\n",
    "Digamos que você queira armazenar a hora de uma festa, basta chamá-la de hora_festa.\n",
    "\n",
    "Você notou o sublinhado _ ?\n",
    "\n",
    "Por convenção, se você quiser usar um nome de variável que seja composto de duas ou mais palavras, você as separa por sublinhados. Isto é chamado de Snake Case.\n",
    "Outra opção seria usar CamelCase como em horaFesta. Isto é muito comum em outras línguas, mas não a convenção em Python, como já foi dito anteriormente.\n",
    "\n",
    "Lembre-se que as variáveis são sensíveis a maiúsculas e minúsculas, portanto, hora_festa e Hora_festa não são a mesma coisa. Além disso, tenha em mente que a convenção nos diz para usarmos sempre letras minúsculas.\n",
    "\n",
    "Lembre-se, use nomes que você possa lembrar facilmente dentro de seu programa. A má nomenclatura pode lhe custar muito tempo e causar bugs irritantes.\n",
    "\n",
    "*Em resumo, sobre os nomes de variáveis:*\n",
    "\n",
    "- São sensíveis a maiúsculas e minúsculas: tempo e TEMPO não são a mesma coisa\n",
    "- Têm que começar com um sublinhado _ ou uma letra (NÃO comece com um número!)\n",
    "- Têm permissão para ter apenas números, letras e sublinhados. Nenhum caractere especial como: #, $, &, @, etc.\n",
    "    - Isto, por exemplo, não é permitido: hora#festa, 10horafesta."
   ],
   "metadata": {
    "collapsed": false
   },
   "id": "b5d75b8f2e581a8d"
  },
  {
   "cell_type": "markdown",
   "source": [
    "---\n",
    "## Tipos\n",
    "\n",
    "Para armazenar dados em Python você precisa usar uma variável. E cada variável tem seu tipo, dependendo do valor dos dados armazenados.\n",
    "Python tem tipagem dinâmica, o que significa que você não precisa declarar explicitamente o tipo de sua variável, mas se você quiser, você pode.\n",
    "\n",
    "\n",
    "#### Determinando o tipo\n",
    "\n",
    "Antes de tudo, vamos aprender como determinar o tipo de dados.\n",
    "Basta usar a função type() e passar a variável de sua escolha como um argumento, como o exemplo abaixo.\n",
    "\n",
    "print(type(minha_variavel))"
   ],
   "metadata": {
    "collapsed": false
   },
   "id": "cdc09fc48ee7d7d9"
  },
  {
   "cell_type": "markdown",
   "source": [
    "##### Booleano\n",
    "\n",
    "O tipo booleano é um dos tipos mais básicos de programação.\n",
    "Uma variável do tipo booleano só pode representar verdadeiro ou falso."
   ],
   "metadata": {
    "collapsed": false
   },
   "id": "7ae44e62036fa3d"
  },
  {
   "cell_type": "code",
   "outputs": [],
   "source": [
    "valor_booleano = True\n",
    "print(type(valor_booleano))\n",
    "\n",
    "valor_booleano = bool(1024)\n",
    "print(type(valor_booleano))"
   ],
   "metadata": {
    "collapsed": false
   },
   "id": "925f6b75cd68cdf4",
   "execution_count": null
  },
  {
   "cell_type": "markdown",
   "source": [
    "##### Números\n",
    "\n",
    "Existem três tipos de números: int, float e complexo."
   ],
   "metadata": {
    "collapsed": false
   },
   "id": "2abcd0337dd4bbc6"
  },
  {
   "cell_type": "code",
   "outputs": [],
   "source": [
    "# Inteiro\n",
    "valor_inteiro = 32\n",
    "print(type(valor_inteiro))\n",
    "\n",
    "valor_inteiro = int(32)\n",
    "print(type(valor_inteiro))"
   ],
   "metadata": {
    "collapsed": false
   },
   "id": "f30c486bf5c55401",
   "execution_count": null
  },
  {
   "cell_type": "code",
   "outputs": [],
   "source": [
    "# Ponto flutuante - Real\n",
    "valor_real = 32.85   # Usar o . como separador de casa decimal. Está em Inglês!\n",
    "print(type(valor_real))\n",
    "\n",
    "valor_real = float(32.85)\n",
    "print(type(valor_real))"
   ],
   "metadata": {
    "collapsed": false
   },
   "id": "5a170ec5f087f295",
   "execution_count": null
  },
  {
   "cell_type": "code",
   "outputs": [],
   "source": [
    "# Complexo\n",
    "valor_complexo = 32+4j\n",
    "print(type(valor_complexo))\n",
    "\n",
    "valor_complexo = complex(32+4j)\n",
    "print(type(valor_complexo))"
   ],
   "metadata": {
    "collapsed": false
   },
   "id": "2f564dd5b4955520",
   "execution_count": null
  },
  {
   "cell_type": "markdown",
   "source": [
    "##### String (texto)\n",
    "\n",
    "O tipo texto é um dos tipos mais comuns e é frequentemente chamado de string ou, em Python, apenas str."
   ],
   "metadata": {
    "collapsed": false
   },
   "id": "f354f4f7f99400fa"
  },
  {
   "cell_type": "code",
   "outputs": [],
   "source": [
    "minha_cidade = \"Porto Velho\"\n",
    "print(type(minha_cidade))\n",
    "\n",
    "# As áspas simples têm exatamente o mesmo uso que as áspas duplas\n",
    "minha_cidade = \"Porto Velho\"\n",
    "print(type(minha_cidade))\n",
    "\n",
    "# Definindo explicitamente o tipo de variável\n",
    "minha_cidade = str(\"Porto Velho\")\n",
    "print(type(minha_cidade))"
   ],
   "metadata": {
    "collapsed": false
   },
   "id": "905ffd7e3a59dc28",
   "execution_count": null
  },
  {
   "cell_type": "markdown",
   "source": [
    "Você pode usar o + operador para concatenar as strings.\n",
    "A concatenação é quando você tem duas ou mais strings e deseja juntá-las em uma só."
   ],
   "metadata": {
    "collapsed": false
   },
   "id": "f359b6833a135a2b"
  },
  {
   "cell_type": "code",
   "outputs": [],
   "source": [
    "palavra1 = 'Porto '\n",
    "palavra2 = 'Velho'\n",
    "\n",
    "print(palavra1 + palavra2)"
   ],
   "metadata": {
    "collapsed": false
   },
   "id": "31df1fe03add4e95",
   "execution_count": null
  },
  {
   "cell_type": "markdown",
   "source": [
    "O tipo de string tem muitos métodos embutidos que nos permitem manipulá-los:"
   ],
   "metadata": {
    "collapsed": false
   },
   "id": "4dc5ab099863cc41"
  },
  {
   "cell_type": "code",
   "outputs": [],
   "source": [
    "# A função len() retorna o comprimento de uma string.\n",
    "print(len('Porto Velho'))\n",
    "\n",
    "# O método replace() substitui uma parte da string por outra.\n",
    "# Como exemplo, vamos substituir 'Velho' por 'Seguro'.\n",
    "print('Porto Velho'.replace('Velho', 'Seguro'))\n",
    "\n",
    "# O método upper() devolverá todos os caracteres como maiúsculas.\n",
    "print('Porto Velho'.upper())\n",
    "\n",
    "# O método lower() faz o oposto, e retorna todos os caracteres em minúsculas.\n",
    "print('Porto Velho'.lower())"
   ],
   "metadata": {
    "collapsed": false
   },
   "id": "bae98bd61386f189",
   "execution_count": null
  },
  {
   "cell_type": "markdown",
   "source": [
    "#### Mudança de tipos - Typecasting\n",
    "\n",
    "Permite a conversão entre diferentes tipos.\n",
    "Assim você pode ter um int transformado em um str, ou um float transformado em uma int, por exemplo.\n",
    "\n",
    "##### Conversão explícita\n",
    "\n",
    "Para transformar uma variável para uma string basta usar a função str()."
   ],
   "metadata": {
    "collapsed": false
   },
   "id": "1fe3dac480873df5"
  },
  {
   "cell_type": "code",
   "outputs": [],
   "source": [
    "# Esta é apenas uma intialização explícita\n",
    "variavel_string = str('32')\n",
    "print(variavel_string)\n",
    "\n",
    "# int to str\n",
    "variavel_string = str(32)\n",
    "print(variavel_string)\n",
    "\n",
    "# float to str\n",
    "variavel_string = str(32.0)\n",
    "print(variavel_string)"
   ],
   "metadata": {
    "collapsed": false
   },
   "id": "516ef393da7e7aa7",
   "execution_count": null
  },
  {
   "cell_type": "markdown",
   "source": [
    "Para transformar uma variável para um número inteiro, basta usar a função int()."
   ],
   "metadata": {
    "collapsed": false
   },
   "id": "6d505ccea82ff344"
  },
  {
   "cell_type": "code",
   "outputs": [],
   "source": [
    "# Esta é apenas uma intialização explícita\n",
    "variavel_inteiro = int(32)\n",
    "print(variavel_inteiro)\n",
    "\n",
    "# float to int: arredondamento para baixo (para 3)\n",
    "variavel_inteiro = int(3.2)\n",
    "print(variavel_inteiro)\n",
    "\n",
    "# str to int\n",
    "variavel_inteiro = int('32')\n",
    "print(variavel_inteiro)"
   ],
   "metadata": {
    "collapsed": false
   },
   "id": "12e57c3651b14096",
   "execution_count": null
  },
  {
   "cell_type": "markdown",
   "source": [
    "Para transformar uma variável para um ponto flutuante basta usar a função float()."
   ],
   "metadata": {
    "collapsed": false
   },
   "id": "2575306da4244532"
  },
  {
   "cell_type": "code",
   "outputs": [],
   "source": [
    "# Esta é uma intialização explícita\n",
    "variavel_float = float(3.2)\n",
    "print(variavel_float)\n",
    "\n",
    "# int para flutuar\n",
    "variavel_float = float(32)\n",
    "print(variavel_float)\n",
    "\n",
    "# str to float\n",
    "variavel_float = float('32')\n",
    "print(variavel_float)"
   ],
   "metadata": {
    "collapsed": false
   },
   "id": "bbca8918d4dfb976",
   "execution_count": null
  },
  {
   "cell_type": "markdown",
   "source": [
    "Acima temos a conversão explícita do tipo.\n",
    "Em alguns casos você não precisa fazer a conversão explicitamente, já que Python pode fazê-lo por si só.\n",
    "\n",
    "\n",
    "##### Conversão implícita\n",
    "\n",
    "O exemplo abaixo mostra a conversão implícita ao adicionar um int e um float.\n",
    "\n",
    "Note que minha_soma é do tipo float.\n",
    "Python usa float para evitar perda de dados, uma vez que o tipo de int não pode representar os dígitos decimais."
   ],
   "metadata": {
    "collapsed": false
   },
   "id": "a8c774a734ad1065"
  },
  {
   "cell_type": "code",
   "outputs": [],
   "source": [
    "variavel_int = 32\n",
    "variavel_float = 3.2\n",
    "\n",
    "minha_soma = variavel_int + variavel_float\n",
    "\n",
    "print(minha_soma)\n",
    "print(type(minha_soma))"
   ],
   "metadata": {
    "collapsed": false
   },
   "id": "2930964b35633d80",
   "execution_count": null
  },
  {
   "cell_type": "markdown",
   "source": [
    "Por outro lado, neste outro exemplo, quando se adiciona um int e um str, Python não será capaz de fazer a conversão implícita, e a conversão do tipo explícito é necessária"
   ],
   "metadata": {
    "collapsed": false
   },
   "id": "64a66db6e5029b4a"
  },
  {
   "cell_type": "code",
   "outputs": [],
   "source": [
    "variavel_int = 32\n",
    "variavel_string = '32'\n",
    "\n",
    "# trabalhos explícitos de conversão\n",
    "minha_soma = variavel_int + int(variavel_string)\n",
    "print(minha_soma)"
   ],
   "metadata": {
    "collapsed": false
   },
   "id": "36f98d7e2168da2e",
   "execution_count": null
  },
  {
   "cell_type": "code",
   "outputs": [],
   "source": [
    "# a conversão implícita lança um erro\n",
    "minha_soma = variavel_int + variavel_string"
   ],
   "metadata": {
    "collapsed": false
   },
   "id": "df9d09558b49122a",
   "execution_count": null
  },
  {
   "cell_type": "markdown",
   "source": [
    "O mesmo erro é lançado quando se tenta adicionar tipos float e strings sem fazer uma conversão explícita."
   ],
   "metadata": {
    "collapsed": false
   },
   "id": "4eabd46ba943da96"
  },
  {
   "cell_type": "code",
   "outputs": [],
   "source": [
    "variavel_float = 3.2\n",
    "variavel_string = '32'\n",
    "\n",
    "# trabalhos explícitos de conversão\n",
    "minha_soma = variavel_float + float(variavel_string)\n",
    "print(minha_soma)"
   ],
   "metadata": {
    "collapsed": false
   },
   "id": "b7cb08e1264d154d",
   "execution_count": null
  },
  {
   "cell_type": "code",
   "outputs": [],
   "source": [
    "# a conversão implícita lança um erro\n",
    "minha_soma = variavel_float + variavel_string"
   ],
   "metadata": {
    "collapsed": false
   },
   "id": "a007dc6323ad26b0",
   "execution_count": null
  },
  {
   "cell_type": "markdown",
   "source": [
    "---\n",
    "## Entrada de usuário\n",
    "\n",
    "Se você precisar interagir com um usuário ao executar seu programa na linha de comando (por exemplo, para pedir uma informação), você pode usar a função input()."
   ],
   "metadata": {
    "collapsed": false
   },
   "id": "51f2612719199bed"
  },
  {
   "cell_type": "code",
   "outputs": [],
   "source": [
    "pais = input(\"Qual é seu país?\") # usuário entra em 'Brasil'.\n",
    "print(pais)"
   ],
   "metadata": {
    "collapsed": false
   },
   "id": "830bf6036cae0b76",
   "execution_count": null
  },
  {
   "cell_type": "markdown",
   "source": [
    "O valor capturado é sempre string. Basta lembrar que você pode precisar convertê-lo usando a digitação."
   ],
   "metadata": {
    "collapsed": false
   },
   "id": "a67ef73c43a37d9f"
  },
  {
   "cell_type": "code",
   "outputs": [],
   "source": [
    "idade = input(\"Quantos anos você tem?\") # o usuário entra '29'\n",
    "\n",
    "print(idade)\n",
    "print(type(idade))\n",
    "idade = int(idade)\n",
    "print(type(idade))"
   ],
   "metadata": {
    "collapsed": false
   },
   "id": "40ba2d5ad23c9148",
   "execution_count": null
  },
  {
   "cell_type": "markdown",
   "source": [
    "Observe que a idade de 29 anos é capturada como string e depois convertida explicitamente para int.\n",
    "\n",
    "---\n",
    "## Operadores\n",
    "\n",
    "Em uma linguagem de programação, os operadores são símbolos especiais que você pode aplicar a suas variáveis e valores a fim de realizar operações como aritmética/matemática e comparação.\n",
    "\n",
    "Python tem muitos operadores que você pode aplicar a suas variáveis e eu vou demonstrar os mais utilizados.\n",
    "\n",
    "#### Operadores aritméticos\n",
    "\n",
    "Os operadores aritméticos são o tipo mais comum de operadores e também os mais reconhecíveis.\n",
    "Eles permitem que você realize operações matemáticas simples.\n",
    "Eles são:\n",
    "- +: Adição\n",
    "- -: Subtração\n",
    "- *: Multiplicação\n",
    "- /: Divisão\n",
    "- **: Exponenciação\n",
    "- //: Divisão de Piso, redondeia o resultado de uma divisão\n",
    "- %: Modulus, dá o restante de uma divisão\n",
    "\n",
    "Vamos ver um programa que mostra como cada uma delas é utilizada."
   ],
   "metadata": {
    "collapsed": false
   },
   "id": "45cb9ed0eeb45cf0"
  },
  {
   "cell_type": "code",
   "outputs": [],
   "source": [
    "print('Adição:', 5 + 2)\n",
    "print('Subtração:', 5 - 2)\n",
    "print('Multiplicação:', 5 * 2)\n",
    "print('Divisão:', 5 / 2)\n",
    "print('Divisão inteira:', 5 // 2)\n",
    "print('Exponenciação:', 5 ** 2)\n",
    "print('Módulo:', 5 % 2)"
   ],
   "metadata": {
    "collapsed": false
   },
   "id": "83cd03883918cc10",
   "execution_count": null
  },
  {
   "cell_type": "markdown",
   "source": [
    "#### Concatenação\n",
    "\n",
    "A concatenação é quando você tem duas ou mais Strings e quer juntá-las em uma só. Isto é útil quando você tem informações em múltiplas variáveis e quer combiná-las.\n",
    "\n",
    "Por exemplo, neste próximo exemplo, eu combino duas variáveis que contêm meu primeiro nome e meu sobrenome respectivamente para ter meu nome completo.\n",
    "\n",
    "*O operador + também é usado para concatenar.*"
   ],
   "metadata": {
    "collapsed": false
   },
   "id": "371b7cefe9bce9ca"
  },
  {
   "cell_type": "code",
   "outputs": [],
   "source": [
    "primeiro_nome = 'Daniel'\n",
    "ultimo_nome = 'Porto'\n",
    "\n",
    "print(primeiro_nome + ultimo_nome)"
   ],
   "metadata": {
    "collapsed": false
   },
   "id": "ff794385ea040477",
   "execution_count": null
  },
  {
   "cell_type": "markdown",
   "source": [
    "Como a concatenação é aplicada a strings, para concatenar strings com outros tipos, é necessário fazer uma digitação explícita usando str().\n",
    "Tenho que digitar o valor int 30 para concatenar a string com str() para concatená-la com o resto da string."
   ],
   "metadata": {
    "collapsed": false
   },
   "id": "f4e12a2e802a7ea6"
  },
  {
   "cell_type": "code",
   "outputs": [],
   "source": [
    "idade = 'Eu tenho ' + str(30) + ' anos de idade'\n",
    "print(idade)"
   ],
   "metadata": {
    "collapsed": false
   },
   "id": "9d64160a0b3646be",
   "execution_count": null
  },
  {
   "cell_type": "markdown",
   "source": [
    "#### Operadores de Comparação\n",
    "\n",
    "Use operadores de comparação para comparar dois valores.\n",
    "Estes operadores retornam Verdadeiro ou Falso. Eles são:\n",
    "\n",
    "- == : Igual\n",
    "- != : Não iguais\n",
    "- \\> : Maior do que\n",
    "- < : Menor do que\n",
    "- \\>= : Maior ou igual a\n",
    "- <= : Menor ou igual a\n",
    "\n",
    "Vamos ver um programa que mostra como cada um deles é usado."
   ],
   "metadata": {
    "collapsed": false
   },
   "id": "cc43526ab710200"
  },
  {
   "cell_type": "code",
   "outputs": [],
   "source": [
    "print('Igual:', 5 == 2)\n",
    "print('Não igual:', 5 != 2)\n",
    "print('Maior do que:', 5 > 2)\n",
    "print('Menor do que:', 5 < 2)\n",
    "print('Maior ou igual a:', 5 >= 2)\n",
    "print('Menor ou igual a:', 5 <= 2)"
   ],
   "metadata": {
    "collapsed": false
   },
   "id": "ae3af30c54d85a5f",
   "execution_count": null
  },
  {
   "cell_type": "markdown",
   "source": [
    "#### Operadores de Atribuição\n",
    "\n",
    "Como o nome indica, estes operadores são usados para atribuir valores a variáveis.\n",
    "x = 7 no primeiro exemplo é uma atribuição direta que armazena o número 7 na variável x.\n",
    "\n",
    "A operação de atribuição toma o valor à direita e o atribui à variável à esquerda.\n",
    "Os outros operadores são abreviações simples para os Operadores Aritméticos."
   ],
   "metadata": {
    "collapsed": false
   },
   "id": "98ae8d60156b7829"
  },
  {
   "cell_type": "code",
   "outputs": [],
   "source": [
    "# =: atribuição simples\n",
    "x = 7\n",
    "print(x)"
   ],
   "metadata": {
    "collapsed": false
   },
   "id": "980212709d7a9680",
   "execution_count": null
  },
  {
   "cell_type": "markdown",
   "source": [
    "No segundo exemplo, x começa com 7 e x += 2 é apenas outra forma de escrever x = x + 2.\n",
    "Isto significa que o valor anterior de x é adicionado por 2 e reatribuído a x que agora é igual a 9."
   ],
   "metadata": {
    "collapsed": false
   },
   "id": "dbb6d7d4c0b55441"
  },
  {
   "cell_type": "code",
   "outputs": [],
   "source": [
    "# +=: adição e atribuição\n",
    "x = 7\n",
    "x += 2\n",
    "print(x)"
   ],
   "metadata": {
    "collapsed": false
   },
   "id": "c2a8aa1ba06109d4",
   "execution_count": null
  },
  {
   "cell_type": "code",
   "outputs": [],
   "source": [
    "# -=: subtração e atribuição\n",
    "x = 7\n",
    "x -= 2\n",
    "print(x)"
   ],
   "metadata": {
    "collapsed": false
   },
   "id": "1f1ab431c5dcdd7a",
   "execution_count": null
  },
  {
   "cell_type": "code",
   "outputs": [],
   "source": [
    "# *=: multiplicação e atribuição\n",
    "x = 7\n",
    "x *= 2\n",
    "print(x)"
   ],
   "metadata": {
    "collapsed": false
   },
   "id": "61cf35d96b58ca9d",
   "execution_count": null
  },
  {
   "cell_type": "code",
   "outputs": [],
   "source": [
    "# /=: divisão e atribuição\n",
    "x = 7\n",
    "x /= 2\n",
    "print(x)"
   ],
   "metadata": {
    "collapsed": false
   },
   "id": "390a3020cdb00869",
   "execution_count": null
  },
  {
   "cell_type": "code",
   "outputs": [],
   "source": [
    "# %=: módulo e atribuição\n",
    "x = 7\n",
    "x %= 2\n",
    "print(x)"
   ],
   "metadata": {
    "collapsed": false
   },
   "id": "c8d20c0f30a42875",
   "execution_count": null
  },
  {
   "cell_type": "code",
   "outputs": [],
   "source": [
    "# //=: divisão e atribuição de andares\n",
    "x = 7\n",
    "x //= 2\n",
    "print(x)"
   ],
   "metadata": {
    "collapsed": false
   },
   "id": "8fdcffd1b71451cb",
   "execution_count": null
  },
  {
   "cell_type": "code",
   "outputs": [],
   "source": [
    "# **=: exponenciação e atribuição\n",
    "x = 7\n",
    "x **= 2\n",
    "print(x)"
   ],
   "metadata": {
    "collapsed": false
   },
   "id": "62708810cf6934f8",
   "execution_count": null
  },
  {
   "cell_type": "markdown",
   "source": [
    "#### Operadores lógicos\n",
    "\n",
    "Operadores lógicos são usados para combinar declarações aplicando álgebra booleana. Eles são:\n",
    "\n",
    "- and: Verdade somente quando ambas as afirmações são verdadeiras\n",
    "- or: Falso somente quando ambos x e y são falsos\n",
    "- not: O operador não operador simplesmente inverte a entrada, True torna-se Falso e vice-versa.\n",
    "  \n",
    "Vamos ver um programa que mostra como cada um é utilizado."
   ],
   "metadata": {
    "collapsed": false
   },
   "id": "4e728c89c8e60e3b"
  },
  {
   "cell_type": "code",
   "outputs": [],
   "source": [
    "x = 5\n",
    "y = 2\n",
    "print(x == 5 and y > 3)\n",
    "print(x == 5 or y > 3)\n",
    "print(not (x == 5))"
   ],
   "metadata": {
    "collapsed": false
   },
   "id": "9f08f84a7147c8bb",
   "execution_count": null
  },
  {
   "cell_type": "markdown",
   "source": [
    "#### Condicionais\n",
    "\n",
    "Os condicionais são uma das pedras angulares de qualquer linguagem de programação.\n",
    "Eles permitem controlar o fluxo do programa de acordo com condições específicas que você pode verificar.\n",
    "A forma como você implementa um condicional é através da declaração de *if*.\n",
    "\n",
    "A forma geral de uma declaração de *if* é:"
   ],
   "metadata": {
    "collapsed": false
   },
   "id": "e222d5dd816ba8af"
  },
  {
   "cell_type": "code",
   "outputs": [],
   "source": [
    "if expression:\n",
    "    statement"
   ],
   "metadata": {
    "collapsed": false
   },
   "id": "8716278e85aa5f5",
   "execution_count": null
  },
  {
   "cell_type": "markdown",
   "source": [
    "A expressão contém alguma lógica que retorna um booleano, e a declaração é executada somente se o retorno for Verdadeiro."
   ],
   "metadata": {
    "collapsed": false
   },
   "id": "6517cc0e49816a24"
  },
  {
   "cell_type": "code",
   "outputs": [],
   "source": [
    "# Um exemplo simples:\n",
    "\n",
    "idade_Conan = 32\n",
    "idade_Xena = 29\n",
    "\n",
    "if idade_Conan > idade_Xena:\n",
    "    print('Conan é mais velho que Xena')"
   ],
   "metadata": {
    "collapsed": false
   },
   "id": "45db42b767cc9ca5",
   "execution_count": null
  },
  {
   "cell_type": "markdown",
   "source": [
    "Temos duas variáveis que indicam as idades de Conan e Xena. A condição em inglês simples diz\n",
    "\"se a idade de Conan é maior do que a de Xena, então imprima a frase 'Conan é mais velho que Xena'\".\n",
    "Como a condição retorna *True*, a frase será impressa no console.\n",
    "\n",
    "No nosso último exemplo, o programa só faz algo se a condição retorna True.\n",
    "Mas também queremos que ele faça algo se retornar Falso ou mesmo verificar uma segunda ou terceira condição se a primeira não foi atendida.\n",
    "\n",
    "Neste próximo exemplo, trocamos a idade de Conan e Xena.\n",
    "A primeira condição retornará Falso já que Xena é mais velha agora, e então o programa imprimirá outra frase."
   ],
   "metadata": {
    "collapsed": false
   },
   "id": "f202a513355e8147"
  },
  {
   "cell_type": "code",
   "outputs": [],
   "source": [
    "idade_Conan = 29\n",
    "idade_Xena = 32\n",
    "\n",
    "if idade_Conan > idade_Xena:\n",
    "    print('Conan é mais velho que Xena')\n",
    "else:\n",
    "    print('Conan é mais jovem que Xena')"
   ],
   "metadata": {
    "collapsed": false
   },
   "id": "de31044e13cef52e",
   "execution_count": null
  },
  {
   "cell_type": "markdown",
   "source": [
    "Agora, considere o exemplo abaixo com o elif.\n",
    "O objetivo do elif é fornecer uma nova condição a ser verificada antes que a outra seja executada.\n",
    "Mais uma vez mudamos suas idades e agora ambos têm 32 anos de idade.\n",
    "A condição no elif é cumprida. Como ambos têm a mesma idade, o programa irá imprimir \"Conan e Xena têm a mesma idade\"."
   ],
   "metadata": {
    "collapsed": false
   },
   "id": "bb30c7d33b1c8db4"
  },
  {
   "cell_type": "code",
   "outputs": [],
   "source": [
    "idade_Conan = 32\n",
    "idade_Xena = 32\n",
    "\n",
    "if idade_Conan > idade_Xena:\n",
    "    print('Conan é mais velho que Xena')\n",
    "elif idade_Conan == idade_Xena:\n",
    "    print('Conan e Xena têm a mesma idade')\n",
    "else:\n",
    "    print('Conan é mais jovem que Xena')"
   ],
   "metadata": {
    "collapsed": false
   },
   "id": "b81a4ca265bf17dc",
   "execution_count": null
  },
  {
   "cell_type": "markdown",
   "source": [
    "Note que você pode ter quantos elifs quiser, basta colocá-los em sequência."
   ],
   "metadata": {
    "collapsed": false
   },
   "id": "50e00253abe3dc8b"
  },
  {
   "cell_type": "code",
   "outputs": [],
   "source": [
    "if idade_Conan > idade_Xena:\n",
    "    print('Conan é mais velho que Xena')\n",
    "elif idade_Conan < idade_Xena:\n",
    "    print('Conan é mais jovem que Xena')\n",
    "elif idade_Conan == idade_Xena:\n",
    "    print('Conan e Xena têm a mesma idade')\n",
    "else:\n",
    "    print('Este nunca é executado')"
   ],
   "metadata": {
    "collapsed": false
   },
   "id": "9fe4c90c0e3a3efd",
   "execution_count": null
  },
  {
   "cell_type": "markdown",
   "source": [
    "Neste exemplo, o else nunca é executado porque todas as possibilidades estão cobertas nas condições anteriores e, portanto, poderiam ser removido.\n",
    "\n",
    "#### Condicionais aninhadas\n",
    "\n",
    "Você pode precisar verificar mais de uma condição para que algo aconteça.\n",
    "\n",
    "Neste caso, você pode aninhar suas declarações.\n",
    "\n",
    "Por exemplo, a segunda frase \"Conan é o mais velho\" é impressa somente se ambos os ifs passarem."
   ],
   "metadata": {
    "collapsed": false
   },
   "id": "e840ed04f27f0d7"
  },
  {
   "cell_type": "code",
   "outputs": [],
   "source": [
    "idade_Conan = 32\n",
    "idade_Xena = 28\n",
    "idade_Hercules = 25\n",
    "\n",
    "\n",
    "if idade_Conan > idade_Xena:\n",
    "    print('Conan é mais velho que Xena')\n",
    "    if idade_Conan > idade_Hercules:\n",
    "        print('Conan é o mais velho')"
   ],
   "metadata": {
    "collapsed": false
   },
   "id": "ba8cad49fd7554a3",
   "execution_count": null
  },
  {
   "cell_type": "markdown",
   "source": [
    "Ou, dependendo da lógica, torná-la mais simples com Álgebra Booleana.\n",
    "Desta forma, seu código é menor, mais legível e mais fácil de manter."
   ],
   "metadata": {
    "collapsed": false
   },
   "id": "cdb748bf64c7d7d8"
  },
  {
   "cell_type": "code",
   "outputs": [],
   "source": [
    "idade_Conan = 32\n",
    "idade_Xena = 28\n",
    "idade_Hercules = 25\n",
    "\n",
    "\n",
    "if idade_Conan > idade_Xena and idade_Conan > idade_Hercules:\n",
    "    print('Conan é o mais velho')"
   ],
   "metadata": {
    "collapsed": false
   },
   "id": "d6758271628b44c",
   "execution_count": null
  },
  {
   "cell_type": "markdown",
   "source": [
    "#### Operadores Ternários\n",
    "\n",
    "O operador ternário é uma declaração *if* de uma linha.\n",
    "\n",
    "É muito útil para condições simples.\n",
    "\n",
    "Possui este o aspecto:\n",
    "*<expressão>* if *<condição>* else *<expressão>*\n",
    "\n",
    "Considere o seguinte código Python:"
   ],
   "metadata": {
    "collapsed": false
   },
   "id": "7f2d6151f60204b1"
  },
  {
   "cell_type": "code",
   "outputs": [],
   "source": [
    "a = 25\n",
    "b = 50\n",
    "x = 0\n",
    "y = 1\n",
    "\n",
    "resultado = x if a > b else y\n",
    "\n",
    "print(resultado)"
   ],
   "metadata": {
    "collapsed": false
   },
   "id": "99ba821bf374b6dc",
   "execution_count": null
  },
  {
   "cell_type": "markdown",
   "source": [
    "Aqui usamos quatro variáveis, a e b são para a condição, enquanto x e y representam as expressões.\n",
    "a e b são os valores que estamos verificando uns contra os outros para avaliar alguma condição.\n",
    "\n",
    "Neste caso, estamos verificando se a é maior que b.\n",
    "Se a expressão for verdadeira, isto é, a for maior que b, então o valor de x será atribuído ao resultado que será igual a 0.\n",
    "Entretanto, se a for menor que b, então teremos o valor de y atribuído ao resultado, e o resultado manterá o valor 1.\n",
    "\n",
    "Como a é menor que b, 25 < 50, o resultado terá 1 como valor final de y.\n",
    "\n",
    "A maneira mais fácil de lembrar como a condição é avaliada é lê-la em inglês simples.\n",
    "Nosso exemplo seria: o resultado será x se a for maior que b; caso contrário será y."
   ],
   "metadata": {
    "collapsed": false
   },
   "id": "e3cf13844461a86c"
  },
  {
   "cell_type": "markdown",
   "source": [
    "---\n",
    "## Loops While\n",
    "\n",
    "Loops são usados quando você precisa repetir um bloco de código um certo número de vezes ou aplicar a mesma lógica sobre cada item de uma coleção.\n",
    "\n",
    "Há dois tipos de loops: for e while.\n",
    "\n",
    "#### Sintaxe básica\n",
    "\n",
    "A sintaxe básica de um loop while é a seguinte."
   ],
   "metadata": {
    "collapsed": false
   },
   "id": "43e58f051ba0775b"
  },
  {
   "cell_type": "code",
   "outputs": [],
   "source": [
    "while condition:\n",
    "    statement"
   ],
   "metadata": {
    "collapsed": false
   },
   "id": "c967e45207f4c80a",
   "execution_count": null
  },
  {
   "cell_type": "markdown",
   "source": [
    "O laço continuará enquanto a condição for verdadeira.\n",
    "\n",
    "Ex: O quadrado de um número. O exemplo abaixo toma cada valor de número e calcula seu valor quadrático."
   ],
   "metadata": {
    "collapsed": false
   },
   "id": "55b7d72688bcc1a9"
  },
  {
   "cell_type": "code",
   "outputs": [],
   "source": [
    "numero = 1\n",
    "while numero <= 5:\n",
    "    print(numero, 'ao quadrado é', numero ** 2)\n",
    "    numero = numero + 1"
   ],
   "metadata": {
    "collapsed": false
   },
   "id": "49d407dddd1bd6f3",
   "execution_count": null
  },
  {
   "cell_type": "markdown",
   "source": [
    "Você pode usar qualquer nome variável, mas eu escolhi o número porque faz sentido no contexto.\n",
    "Uma escolha genérica comum seria simplesmente i.\n",
    "\n",
    "O laço continuará até que o número (inicializado com 1) seja menor ou igual a 5.\n",
    "Observe que após o comando print(), o número da variável é incrementado em 1 para tomar o próximo valor.\n",
    "\n",
    "Se você não fizer a incrementação, você terá um loop infinito, pois o número nunca alcançará um valor maior que 5. **Este é um detalhe muito importante!**\n",
    "\n",
    "#### Bloco else\n",
    "\n",
    "Quando a condição retornar Falso, o bloco else será chamado."
   ],
   "metadata": {
    "collapsed": false
   },
   "id": "fdb369309798f5fe"
  },
  {
   "cell_type": "code",
   "outputs": [],
   "source": [
    "numero = 1\n",
    "while numero <= 5:\n",
    "    print(numero, 'ao quadrado é', numero ** 2)\n",
    "    numero = numero + 1\n",
    "else:\n",
    "    print('Não sobraram números!')"
   ],
   "metadata": {
    "collapsed": false
   },
   "id": "68895f72e8783ef4",
   "execution_count": null
  },
  {
   "cell_type": "markdown",
   "source": [
    "Observe que a frase 'Não sobraram números!' é impressa após o fim do laço, ou seja, após o valor da condição <= 5 mudar para Falso.\n",
    "\n",
    "##### Como quebrar um loop em Python\n",
    "\n",
    "Simplesmente use a palavra-chave *break*, e o loop irá parar sua execução."
   ],
   "metadata": {
    "collapsed": false
   },
   "id": "19ecf98fb88a5040"
  },
  {
   "cell_type": "code",
   "outputs": [],
   "source": [
    "numero = 1\n",
    "while numero <= 5:\n",
    "    print(numero, 'ao quadrado é', numero ** 2)\n",
    "    numero = numero + 1\n",
    "    if numero == 4:\n",
    "        break"
   ],
   "metadata": {
    "collapsed": false
   },
   "id": "4b796decbc23b196",
   "execution_count": null
  },
  {
   "cell_type": "markdown",
   "source": [
    "O loop funciona normalmente, e quando o número chega a 4 o valor lógico do *if* é True, o comando de quebra (break é chamado). \n",
    "Isto termina o loop antes que o valor ao quadrado dos números 4 e 5 sejam calculados.\n",
    "\n",
    "##### Como pular um item em um loop de tempo\n",
    "\n",
    "O *continue* fará isso por você.\n",
    "\n",
    "Vamos inverter a ordem da instrução if e da impressão() para mostrar como ela funciona corretamente:"
   ],
   "metadata": {
    "collapsed": false
   },
   "id": "7eb6a17f55fd9ed5"
  },
  {
   "cell_type": "code",
   "outputs": [],
   "source": [
    "numero = 1\n",
    "while numero <= 5:\n",
    "    numero = numero + 1\n",
    "    if numero == 4:\n",
    "        continue\n",
    "    print(numero, 'ao quadrado é', numero ** 2)"
   ],
   "metadata": {
    "collapsed": false
   },
   "id": "8a1e9f7d24154681",
   "execution_count": null
  },
  {
   "cell_type": "markdown",
   "source": [
    "O programa sempre verifica se 4 é o valor atual do número. Se for, o quadrado de 4 não será calculado e o *continue* saltará para a próxima iteração quando o valor do número for 5.\n",
    "\n",
    "---\n",
    "## Loops For\n",
    "\n",
    "Loops for são similares aos loops while no sentido de que são usados para repetir blocos de código.\n",
    "A diferença mais importante é que você pode facilmente iterar sobre os tipos sequenciais.\n",
    "\n",
    "##### Sintaxe básica\n",
    "\n",
    "A sintaxe básica de um para loop é:"
   ],
   "metadata": {
    "collapsed": false
   },
   "id": "d366b70bbe20d2c9"
  },
  {
   "cell_type": "code",
   "outputs": [],
   "source": [
    "for item in coleção:\n",
    "    declaração"
   ],
   "metadata": {
    "collapsed": false
   },
   "id": "31a5668fe8d28403",
   "execution_count": null
  },
  {
   "cell_type": "markdown",
   "source": [
    "Para percorrer uma lista ou qualquer outra coleção, basta proceder como mostrado no exemplo abaixo."
   ],
   "metadata": {
    "collapsed": false
   },
   "id": "5e9a1f8563192754"
  },
  {
   "cell_type": "code",
   "outputs": [],
   "source": [
    "carros = ['BMW', 'Ferrari', 'McLaren']\n",
    "for carro in carros:\n",
    "    print(carro)"
   ],
   "metadata": {
    "collapsed": false
   },
   "id": "22c7bdcbac0e1d9a",
   "execution_count": null
  },
  {
   "cell_type": "markdown",
   "source": [
    "A lista de carros contém três itens. O loop for irá iterar sobre a lista e armazenar cada item na variável do carro, e então executar uma declaração, neste caso imprimir (carro), para imprimir cada carro no console.\n",
    "\n",
    "A função *for* é amplamente utilizada para loops porque lhe dá uma maneira simples de listar números.\n",
    "Este código fará um loop através dos números de 0 a 5 e imprimirá cada um deles."
   ],
   "metadata": {
    "collapsed": false
   },
   "id": "2b83589d369475f3"
  },
  {
   "cell_type": "code",
   "outputs": [],
   "source": [
    "for numero in range(5):\n",
    "    print(numero)"
   ],
   "metadata": {
    "collapsed": false
   },
   "id": "ddf90eb8ee85e30f",
   "execution_count": null
  },
  {
   "cell_type": "markdown",
   "source": [
    "Por outro lado, sem a função de range(), faríamos algo assim."
   ],
   "metadata": {
    "collapsed": false
   },
   "id": "efa81a3c2a0fc838"
  },
  {
   "cell_type": "code",
   "outputs": [],
   "source": [
    "numeros = [0, 1, 2, 3, 4]\n",
    "for numero in numeros:\n",
    "    print(numero)"
   ],
   "metadata": {
    "collapsed": false
   },
   "id": "c888f153ca8f7616",
   "execution_count": null
  },
  {
   "cell_type": "markdown",
   "source": [
    "Você também pode definir um inicio e um fim usando o range().\n",
    "Aqui estamos começando em 5 e parando em 10. \n",
    "\n",
    "*O número que você definir para parar não está incluído.*"
   ],
   "metadata": {
    "collapsed": false
   },
   "id": "ff4f8cdac7f27218"
  },
  {
   "cell_type": "code",
   "outputs": [],
   "source": [
    "for numero in range(5, 10):\n",
    "    print(numero)"
   ],
   "metadata": {
    "collapsed": false
   },
   "id": "c47a1bc4ad5b4091",
   "execution_count": null
  },
  {
   "cell_type": "markdown",
   "source": [
    "Finalmente, também é possível definir um passo.\n",
    "Aqui começamos em 10 e aumentamos em 2 até 20, já que 20 é a parada, ela não está incluída."
   ],
   "metadata": {
    "collapsed": false
   },
   "id": "e290d01ebf7cb6de"
  },
  {
   "cell_type": "code",
   "outputs": [],
   "source": [
    "for numero in range(10, 20, 2):\n",
    "    print(numero)"
   ],
   "metadata": {
    "collapsed": false
   },
   "id": "8ac92627b67f449a",
   "execution_count": null
  },
  {
   "cell_type": "markdown",
   "source": [
    "##### Bloco else\n",
    "\n",
    "Quando os itens da lista tiverem terminado, o bloco else será chamado."
   ],
   "metadata": {
    "collapsed": false
   },
   "id": "e578dc580b552a98"
  },
  {
   "cell_type": "code",
   "outputs": [],
   "source": [
    "carros = ['BMW', 'Ferrari', 'McLaren']\n",
    "for carro in carros:\n",
    "    print(carro)\n",
    "else:\n",
    "    print('Não há mais carros!')"
   ],
   "metadata": {
    "collapsed": false
   },
   "id": "74c70975f366a643",
   "execution_count": null
  },
  {
   "cell_type": "markdown",
   "source": [
    "##### Como sair de um loop for em Python\n",
    "\n",
    "Simplesmente use a palavra-chave break, e o loop irá parar sua execução."
   ],
   "metadata": {
    "collapsed": false
   },
   "id": "1cce7099ea24e7a9"
  },
  {
   "cell_type": "code",
   "outputs": [],
   "source": [
    "carros = ['BMW', 'Ferrari', 'McLaren']\n",
    "for carro in carros:\n",
    "    print(carro)\n",
    "    if carro == 'Ferrari':\n",
    "        break"
   ],
   "metadata": {
    "collapsed": false
   },
   "id": "c4feb757d224cbb2",
   "execution_count": null
  },
  {
   "cell_type": "markdown",
   "source": [
    "O loop irá iterar através da lista e imprimir cada carro.\n",
    "Neste caso, após o loop chegar a 'Ferrari', o break é chamado e a 'McLaren' não será impressa.\n",
    "\n",
    "\n",
    "##### Como pular um item em um loop\n",
    "Nesta seção, aprenderemos como *continue* pode fazer isso por você.\n",
    "\n",
    "Invertendo a ordem da declaração *if* e continuar mostrando como ela funciona corretamente.\n",
    "\n",
    "Note que sempre é verificado se 'Ferrari' é o item atual.\n",
    "Se for, 'Ferrari' não será impresso, e o *continue* irá pular para o próximo item 'McLaren'."
   ],
   "metadata": {
    "collapsed": false
   },
   "id": "b9294c26bef1c4e7"
  },
  {
   "cell_type": "code",
   "outputs": [],
   "source": [
    "carros = ['BMW', 'Ferrari', 'McLaren']\n",
    "for carro in carros:\n",
    "    if carro == 'Ferrari':\n",
    "        continue\n",
    "    print(carro)"
   ],
   "metadata": {
    "collapsed": false
   },
   "id": "51f1f532c3cc980a",
   "execution_count": null
  },
  {
   "cell_type": "markdown",
   "source": [
    "#### Loop dentro de Loop: Loops aninhados\n",
    "\n",
    "Às vezes você tem coleções mais complexas, como uma lista de listas.\n",
    "Para iterar sobre estas listas, você precisa aninhar-se para os loops.\n",
    "\n",
    "Neste caso, eu tenho três listas: uma de modelos BMW, outra de modelos Ferrari e finalmente uma com modelos McLaren.\n",
    "A primeira iteração de loop sobre a lista de cada marca, e a segunda irá iterar sobre os modelos de cada marca."
   ],
   "metadata": {
    "collapsed": false
   },
   "id": "24f92d1344dcef5c"
  },
  {
   "cell_type": "code",
   "outputs": [],
   "source": [
    "modelo_carros = [\n",
    "    ['BMW I8', 'BMW X3',\n",
    "     'BMW X1'],\n",
    "    ['Ferrari 812', 'Ferrari F8',\n",
    "     'Ferrari GTC4'],\n",
    "    ['McLaren 570S', 'McLaren 570GT',\n",
    "     'McLaren 720S']\n",
    "]\n",
    "\n",
    "for marca in modelo_carros:\n",
    "    for modelo in marca:\n",
    "        print(modelo)\n"
   ],
   "metadata": {
    "collapsed": false
   },
   "id": "d645921e9b1ebbb6",
   "execution_count": null
  },
  {
   "cell_type": "markdown",
   "source": [
    "#### Loop sobre outras estruturas de dados\n",
    "\n",
    "A mesma lógica que se aplica para loops sobre uma lista pode ser estendida às outras estruturas de dados:\n",
    "- tuple\n",
    "- set e\n",
    "- dicionário\n",
    "\n",
    "Como fazer um loop básico sobre cada uma delas:"
   ],
   "metadata": {
    "collapsed": false
   },
   "id": "5f0bc230183043ec"
  },
  {
   "cell_type": "code",
   "outputs": [],
   "source": [
    " # loop com uma Tuple\n",
    "pessoas = ('Conan', 'Xena')\n",
    "for pessoa in pessoas:\n",
    "    print(pessoa)"
   ],
   "metadata": {
    "collapsed": false
   },
   "id": "d0c70919400684f8",
   "execution_count": null
  },
  {
   "cell_type": "code",
   "outputs": [],
   "source": [
    "# Loop com uma set\n",
    "pessoas = ('Conan', 'Xena')\n",
    "for pessoa in pessoas:\n",
    "    print(pessoa)"
   ],
   "metadata": {
    "collapsed": false
   },
   "id": "142f9633c1892846",
   "execution_count": null
  },
  {
   "cell_type": "code",
   "outputs": [],
   "source": [
    "# Loop com um Dicionário\n",
    "# Para imprimir as chaves:\n",
    "pessoas = {'Conan': 30, 'Xena': 25}\n",
    "for pessoa in pessoas:\n",
    "    print(pessoa)\n",
    "\n",
    "print(\"---\")\n",
    "\n",
    "# Para imprimir os valores:\n",
    "pessoas = {'Conan': 30, 'Xena': 25}\n",
    "for pessoa in pessoas:\n",
    "    print(pessoas[pessoa])"
   ],
   "metadata": {
    "collapsed": false
   },
   "id": "da2e7738780833b9",
   "execution_count": null
  },
  {
   "cell_type": "markdown",
   "source": [
    "---\n",
    "## Operadores de associação\n",
    "\n",
    "Estes operadores fornecem uma maneira fácil de verificar se um determinado objeto está presente em uma sequência: string, lista, tupla, set e dicionário.\n",
    "\n",
    "Estes operadores são:\n",
    "- **in**: retorna Verdadeiro se o objeto está presente\n",
    "- **not in**: retorna Verdadeiro se o objeto não está presente\n",
    "\n",
    "Vamos ver um programa que mostra como cada um deles é utilizado."
   ],
   "metadata": {
    "collapsed": false
   },
   "id": "788c1d73a7382326"
  },
  {
   "cell_type": "code",
   "outputs": [],
   "source": [
    "lista_numero = [1, 2, 4, 5, 6]\n",
    "print(1 in lista_numero)\n",
    "print(5 not in lista_numero)\n",
    "print(3 not in lista_numero)"
   ],
   "metadata": {
    "collapsed": false
   },
   "id": "991484d0a02749a0",
   "execution_count": null
  },
  {
   "cell_type": "markdown",
   "source": [
    "---\n",
    "## Listas\n",
    "\n",
    "Uma lista tem os seus itens ordenados e podemos adicionar o mesmo item quantas vezes quisermos.\n",
    "Um detalhe importante é que as listas são mutáveis!\n",
    "\n",
    "Mutabilidade significa que pode alterar uma lista após a sua criação, adicionando itens, removendo-os, ou mesmo apenas alterando os seus valores.\n",
    "\n",
    "#### Inicialização"
   ],
   "metadata": {
    "collapsed": false
   },
   "id": "1ed7a4e6c59b3fff"
  },
  {
   "cell_type": "code",
   "outputs": [],
   "source": [
    "# Lista Vazia\n",
    "pessoas = []\n",
    "\n",
    "print(pessoas)"
   ],
   "metadata": {
    "collapsed": false
   },
   "id": "7f331b43c76698c6",
   "execution_count": null
  },
  {
   "cell_type": "code",
   "outputs": [],
   "source": [
    "# Lista com valores iniciais\n",
    "pessoas = ['Bob', 'Mary']\n",
    "\n",
    "print(pessoas)"
   ],
   "metadata": {
    "collapsed": false
   },
   "id": "5db01dea400d2d9f",
   "execution_count": null
  },
  {
   "cell_type": "markdown",
   "source": [
    "#### Adicionando numa lista\n",
    "\n",
    "Para adicionar um item no final de uma lista, utilize o append()."
   ],
   "metadata": {
    "collapsed": false
   },
   "id": "b82a2d095473c5dd"
  },
  {
   "cell_type": "code",
   "outputs": [],
   "source": [
    "pessoas = ['Bob', 'Mary']\n",
    "print(pessoas)\n",
    "\n",
    "pessoas.append('Sarah')\n",
    "print(pessoas)"
   ],
   "metadata": {
    "collapsed": false
   },
   "id": "81c13273311d560f",
   "execution_count": null
  },
  {
   "cell_type": "markdown",
   "source": [
    "Para especificar a posição para o novo item, devemos utilizar o método insert()."
   ],
   "metadata": {
    "collapsed": false
   },
   "id": "5dbaf1549e1ae630"
  },
  {
   "cell_type": "code",
   "outputs": [],
   "source": [
    "pessoas = ['Bob', 'Mary']\n",
    "print(pessoas)\n",
    "\n",
    "pessoas.insert(0, 'Sarah')\n",
    "print(pessoas)"
   ],
   "metadata": {
    "collapsed": false
   },
   "id": "65be767a329a537b",
   "execution_count": null
  },
  {
   "cell_type": "markdown",
   "source": [
    "#### Atualização numa lista\n",
    "\n",
    "Especifique a posição do item a atualizar e defina o novo valor"
   ],
   "metadata": {
    "collapsed": false
   },
   "id": "74edda3d7ca61c09"
  },
  {
   "cell_type": "code",
   "outputs": [],
   "source": [
    "pessoas = ['Bob', 'Mary']\n",
    "print(pessoas)\n",
    "\n",
    "pessoas[1] = 'Sarah'\n",
    "print(pessoas)"
   ],
   "metadata": {
    "collapsed": false
   },
   "id": "6796ee549022ef21",
   "execution_count": null
  },
  {
   "cell_type": "markdown",
   "source": [
    "#### Remoção em um lista\n",
    "\n",
    "Utilizar o método remove() para eliminar o item passado como argumento."
   ],
   "metadata": {
    "collapsed": false
   },
   "id": "fa4d94bfd9a661c7"
  },
  {
   "cell_type": "code",
   "outputs": [],
   "source": [
    "pessoas = ['Bob', 'Mary']\n",
    "print(pessoas)\n",
    "\n",
    "pessoas.remove('Bob')\n",
    "print(pessoas)"
   ],
   "metadata": {
    "collapsed": false
   },
   "id": "d0e526bb44ecbf22",
   "execution_count": null
  },
  {
   "cell_type": "markdown",
   "source": [
    "Para apagar toda a lista, utilizar o método clear():"
   ],
   "metadata": {
    "collapsed": false
   },
   "id": "ef76eb7ed3d20940"
  },
  {
   "cell_type": "code",
   "outputs": [],
   "source": [
    "pessoas = ['Bob', 'Mary']\n",
    "print(pessoas)\n",
    "\n",
    "pessoas.clear()\n",
    "print(pessoas)"
   ],
   "metadata": {
    "collapsed": false
   },
   "id": "f7e82f080ad1f733",
   "execution_count": null
  },
  {
   "cell_type": "markdown",
   "source": [
    "#### Recuperando numa lista\n",
    "\n",
    "Use o índice para referenciar o item.\n",
    "Lembre-se de que o índice começa em 0.\n",
    "Por isso, para recuperar o segundo item, utilize o índice 1."
   ],
   "metadata": {
    "collapsed": false
   },
   "id": "47e8908def7e510e"
  },
  {
   "cell_type": "code",
   "outputs": [],
   "source": [
    "pessoas = ['Bob', 'Mary']\n",
    "print(pessoas[1])"
   ],
   "metadata": {
    "collapsed": false
   },
   "id": "e72c1b7aae956374",
   "execution_count": null
  },
  {
   "cell_type": "markdown",
   "source": [
    "Verificar se um determinado item já existe numa Lista"
   ],
   "metadata": {
    "collapsed": false
   },
   "id": "d37c3a99931a8157"
  },
  {
   "cell_type": "code",
   "outputs": [],
   "source": [
    "pessoas = ['Bob', 'Mary']\n",
    "\n",
    "if 'Bob' in pessoas:\n",
    "  print('Bob existe!')\n",
    "else:\n",
    "  print('Não existe Bob!')"
   ],
   "metadata": {
    "collapsed": false
   },
   "id": "527f131172b3be62",
   "execution_count": null
  },
  {
   "cell_type": "markdown",
   "source": [
    "---\n",
    "## Tuplas\n",
    "\n",
    "Um tupla é semelhante a uma lista: é ordenada, e permite a repetição de itens.\n",
    "Há apenas uma diferença: um tupla é imutável.\n",
    "\n",
    "A imutabilidade, significa que não se pode mudar uma tupla após a sua criação.\n",
    "Se tentarmos adicionar um item ou atualizar um item, por exemplo, o interpretador Python irá mostrar um erro.\n",
    "\n",
    "#### Inicialização"
   ],
   "metadata": {
    "collapsed": false
   },
   "id": "ceb4312b25240e68"
  },
  {
   "cell_type": "code",
   "outputs": [],
   "source": [
    "# Tupla Vazio\n",
    "pessoas = ()\n",
    "print(pessoas)"
   ],
   "metadata": {
    "collapsed": false
   },
   "id": "1fc2c268a4e81c72",
   "execution_count": null
  },
  {
   "cell_type": "code",
   "outputs": [],
   "source": [
    "# Tupla com valores iniciais\n",
    "pessoas = ('Bob', 'Mary')\n",
    "print(pessoas)"
   ],
   "metadata": {
    "collapsed": false
   },
   "id": "85db6ed51436bb04",
   "execution_count": null
  },
  {
   "cell_type": "markdown",
   "source": [
    "#### Adicionando numa Tupla\n",
    "\n",
    "As tuplas são imutáveis. Isto significa que, se tentarmos adicionar um item, teremos um erro."
   ],
   "metadata": {
    "collapsed": false
   },
   "id": "5cf2a346c685fb9"
  },
  {
   "cell_type": "code",
   "outputs": [],
   "source": [
    "pessoas = ('Bob', 'Mary')\n",
    "pessoas[2] = 'Sarah'"
   ],
   "metadata": {
    "collapsed": false
   },
   "id": "a03d45769f93cbf3",
   "execution_count": null
  },
  {
   "cell_type": "markdown",
   "source": [
    "#### Atualização num Tupla\n",
    "\n",
    "A atualização de um item também devolverá um erro."
   ],
   "metadata": {
    "collapsed": false
   },
   "id": "700727bc4c1c388b"
  },
  {
   "cell_type": "code",
   "outputs": [],
   "source": [
    "pessoas = ('Bob', 'Mary')\n",
    "pessoas[0] = 'Sarah'"
   ],
   "metadata": {
    "collapsed": false
   },
   "id": "ffd140c9a08783d5",
   "execution_count": null
  },
  {
   "cell_type": "markdown",
   "source": [
    "Mas há um truque: podemos converter a tupla numa lista, alterar o item, e depois convertê-la de volta para uma Tupla."
   ],
   "metadata": {
    "collapsed": false
   },
   "id": "ec1f6260950d6887"
  },
  {
   "cell_type": "code",
   "outputs": [],
   "source": [
    "pessoas = ('Bob', 'Mary')\n",
    "lista_de_pessoas = list(pessoas)\n",
    "lista_de_pessoas[1] = 'Sarah'\n",
    "pessoas = tuple(lista_de_pessoas)\n",
    "print(pessoas)"
   ],
   "metadata": {
    "collapsed": false
   },
   "id": "e7c6c3eccc2782b8",
   "execution_count": null
  },
  {
   "cell_type": "markdown",
   "source": [
    "#### Remoção em uma Tupla\n",
    "\n",
    "Pela mesma razão que não se pode adicionar um item, também não se pode apagar um item, uma vez que são imutáveis."
   ],
   "metadata": {
    "collapsed": false
   },
   "id": "2384057aa3dd233f"
  },
  {
   "cell_type": "code",
   "outputs": [],
   "source": [
    "pessoas = ('Bob', 'Mary')\n",
    "pessoas.remove('Bob')"
   ],
   "metadata": {
    "collapsed": false
   },
   "id": "7e2e8c9c4ed6e050",
   "execution_count": null
  },
  {
   "cell_type": "markdown",
   "source": [
    "#### Recuperando num Tupla\n",
    "\n",
    "Use o índice para referenciar o item."
   ],
   "metadata": {
    "collapsed": false
   },
   "id": "16ce4912e61dc61"
  },
  {
   "cell_type": "code",
   "outputs": [],
   "source": [
    "pessoas = ('Bob', 'Mary')\n",
    "print(pessoas[1])"
   ],
   "metadata": {
    "collapsed": false
   },
   "id": "d5e20995f062c37c",
   "execution_count": null
  },
  {
   "cell_type": "markdown",
   "source": [
    "#### Verificar se um determinado item já existe num Tupla"
   ],
   "metadata": {
    "collapsed": false
   },
   "id": "327e0ee25cd76088"
  },
  {
   "cell_type": "code",
   "outputs": [],
   "source": [
    "pessoas = ('Bob', 'Mary')\n",
    "\n",
    "if 'Bob' in pessoas:\n",
    "  print('Bob existe!')\n",
    "else:\n",
    "  print('Não existe Bob!')"
   ],
   "metadata": {
    "collapsed": false
   },
   "id": "3109361f58032ad3",
   "execution_count": null
  },
  {
   "cell_type": "markdown",
   "source": [
    "---\n",
    "## Sets\n",
    "\n",
    "Os Sets não garantem a ordem dos itens e não são indexados.\n",
    "Um ponto chave ao utilizar sets: **não permitem a repetição de um item.**\n",
    "\n",
    "#### Inicialização"
   ],
   "metadata": {
    "collapsed": false
   },
   "id": "b50c966f1e685aca"
  },
  {
   "cell_type": "code",
   "outputs": [],
   "source": [
    "# Set Vazio\n",
    "pessoas = set()\n",
    "print(pessoas)"
   ],
   "metadata": {
    "collapsed": false
   },
   "id": "4162d28478bb90b6",
   "execution_count": null
  },
  {
   "cell_type": "code",
   "outputs": [],
   "source": [
    "# Set com valores iniciais\n",
    "pessoas = {'Bob', 'Mary'}\n",
    "print(pessoas)"
   ],
   "metadata": {
    "collapsed": false
   },
   "id": "a05c4565491ec251",
   "execution_count": null
  },
  {
   "cell_type": "markdown",
   "source": [
    "#### Adicionando num Set\n",
    "\n",
    "Use o método add() para adicionar um item."
   ],
   "metadata": {
    "collapsed": false
   },
   "id": "bb11450ff875ed80"
  },
  {
   "cell_type": "code",
   "outputs": [],
   "source": [
    "pessoas = {'Bob', 'Mary'}\n",
    "pessoas.add('Sarah')\n",
    "print(pessoas)"
   ],
   "metadata": {
    "collapsed": false
   },
   "id": "f9e07a72738a14e2",
   "execution_count": null
  },
  {
   "cell_type": "markdown",
   "source": [
    "Utilizar o método update() para adicionar vários itens ao mesmo tempo."
   ],
   "metadata": {
    "collapsed": false
   },
   "id": "ff5cdf6987a3b96c"
  },
  {
   "cell_type": "code",
   "outputs": [],
   "source": [
    "pessoas = {'Bob', 'Mary'}\n",
    "pessoas.update(['Carol', 'Susan'])\n",
    "print(pessoas)"
   ],
   "metadata": {
    "collapsed": false
   },
   "id": "406f2dcc10114309",
   "execution_count": null
  },
  {
   "cell_type": "markdown",
   "source": [
    "Lembre-se, os sets não permitem a repetição, por isso se voltar a acrescentar 'Mary', nada muda."
   ],
   "metadata": {
    "collapsed": false
   },
   "id": "6ed0b53ec7065260"
  },
  {
   "cell_type": "code",
   "outputs": [],
   "source": [
    "pessoas = {'Bob', 'Mary'}\n",
    "pessoas.add('Mary')\n",
    "print(pessoas)"
   ],
   "metadata": {
    "collapsed": false
   },
   "id": "fb46707e7bdb2781",
   "execution_count": null
  },
  {
   "cell_type": "markdown",
   "source": [
    "#### Atualização em um Set\n",
    "\n",
    "Os itens de um set não são imutáveis. É possível adicionar ou apagar um item.\n",
    "\n",
    "#### Remoção em um Set"
   ],
   "metadata": {
    "collapsed": false
   },
   "id": "45f62c9bc71d2e32"
  },
  {
   "cell_type": "code",
   "outputs": [],
   "source": [
    "pessoas = {'Bob', 'Mary'}\n",
    "pessoas.remove('Bob')\n",
    "print(pessoas)"
   ],
   "metadata": {
    "collapsed": false
   },
   "id": "e1d1522e02bf047a",
   "execution_count": null
  },
  {
   "cell_type": "code",
   "outputs": [],
   "source": [
    "# Para apagar todo o set:\n",
    "pessoas = {'Bob', 'Mary'}\n",
    "pessoas.clear()\n",
    "print(pessoas)"
   ],
   "metadata": {
    "collapsed": false
   },
   "id": "820b4a808fb1c516",
   "execution_count": null
  },
  {
   "cell_type": "markdown",
   "source": [
    "#### Verificar se um determinado item já existe em um set:"
   ],
   "metadata": {
    "collapsed": false
   },
   "id": "b0e2f91f3a2b6f86"
  },
  {
   "cell_type": "code",
   "outputs": [],
   "source": [
    "pessoas = {'Bob', 'Mary'}\n",
    "\n",
    "if 'Bob' in pessoas:\n",
    "  print('Bob existe!')\n",
    "else:\n",
    "  print('Não existe Bob!')"
   ],
   "metadata": {
    "collapsed": false
   },
   "id": "d9c1db134c4d94d2",
   "execution_count": null
  },
  {
   "cell_type": "markdown",
   "source": [
    "---\n",
    "## Dicionários\n",
    "\n",
    "O dicionário não garante a ordem dos elementos e é mutável.\n",
    "\n",
    "Uma característica importante dos dicionários é que podemos definir as suas chaves de acesso personalizadas para cada elemento.\n",
    "\n",
    "#### Inicialização de um Dicionário"
   ],
   "metadata": {
    "collapsed": false
   },
   "id": "4c8874421794056b"
  },
  {
   "cell_type": "code",
   "outputs": [],
   "source": [
    "# Dicionário Vazio\n",
    "pessoas = {}\n",
    "print(pessoas)"
   ],
   "metadata": {
    "collapsed": false
   },
   "id": "c08b1d3d18293ce8",
   "execution_count": null
  },
  {
   "cell_type": "code",
   "outputs": [],
   "source": [
    "# Dicionário com valores iniciais\n",
    "pessoas = {'Bob':30, 'Mary':25}\n",
    "print(pessoas)"
   ],
   "metadata": {
    "collapsed": false
   },
   "id": "107a31d92406503f",
   "execution_count": null
  },
  {
   "cell_type": "markdown",
   "source": [
    "#### Adicionando em um Dicionário\n",
    "\n",
    "Se a chave ainda não existe, é anexada ao dicionário."
   ],
   "metadata": {
    "collapsed": false
   },
   "id": "667deff84547c4b3"
  },
  {
   "cell_type": "code",
   "outputs": [],
   "source": [
    "pessoas = {'Bob':30, 'Mary':25}\n",
    "pessoas['Sarah'] = 32\n",
    "print(pessoas)"
   ],
   "metadata": {
    "collapsed": false
   },
   "id": "5dfd9d11355431bc",
   "execution_count": null
  },
  {
   "cell_type": "markdown",
   "source": [
    "#### Atualização de um Dicionário\n",
    "\n",
    "Se a chave já existir, o valor é apenas atualizado."
   ],
   "metadata": {
    "collapsed": false
   },
   "id": "55632ede31925a"
  },
  {
   "cell_type": "code",
   "outputs": [],
   "source": [
    "pessoas = {'Bob':30, 'Mary':25}\n",
    "pessoas['Bob'] = 28\n",
    "print(pessoas)"
   ],
   "metadata": {
    "collapsed": false
   },
   "id": "81f0776f8b970836",
   "execution_count": null
  },
  {
   "cell_type": "markdown",
   "source": [
    "Repare que o código é praticamente o mesmo.\n",
    "\n",
    "#### Remoção em um Dicionário\n",
    "\n",
    "Para remover Bob do dicionário:"
   ],
   "metadata": {
    "collapsed": false
   },
   "id": "b26e30d29906aac6"
  },
  {
   "cell_type": "code",
   "outputs": [],
   "source": [
    "pessoas = {'Bob':30, 'Mary':25}\n",
    "pessoas.pop('Bob')\n",
    "print(pessoas)"
   ],
   "metadata": {
    "collapsed": false
   },
   "id": "b63c1d852cdaf06a",
   "execution_count": null
  },
  {
   "cell_type": "markdown",
   "source": [
    "Clear() para apagar todo o dicionário:"
   ],
   "metadata": {
    "collapsed": false
   },
   "id": "5a14dedb07f9460f"
  },
  {
   "cell_type": "code",
   "outputs": [],
   "source": [
    "pessoas = {'Bob':30, 'Mary':25}\n",
    "pessoas.clear()\n",
    "print(pessoas)"
   ],
   "metadata": {
    "collapsed": false
   },
   "id": "2c7e9edb9db5b3d8",
   "execution_count": null
  },
  {
   "cell_type": "markdown",
   "source": [
    "#### Recuperação de um valor no Dicionário"
   ],
   "metadata": {
    "collapsed": false
   },
   "id": "a876a95a5125a87e"
  },
  {
   "cell_type": "code",
   "outputs": [],
   "source": [
    "pessoas = {'Bob':30, 'Mary':25}\n",
    "bob_age = pessoas['Bob']\n",
    "print(bob_age)"
   ],
   "metadata": {
    "collapsed": false
   },
   "id": "a070728cd38d0c59",
   "execution_count": null
  },
  {
   "cell_type": "markdown",
   "source": [
    "#### Verificar se uma determinada chave já existe num Dicionário"
   ],
   "metadata": {
    "collapsed": false
   },
   "id": "d763f07e079b5ac8"
  },
  {
   "cell_type": "code",
   "outputs": [],
   "source": [
    "pessoas = {'Bob':30, 'Mary':25}\n",
    "if 'Bob' in pessoas:\n",
    "  print('Bob existe!')\n",
    "else:\n",
    "  print('Não existe Bob!')"
   ],
   "metadata": {
    "collapsed": false
   },
   "id": "a312920f6b64ba4",
   "execution_count": null
  },
  {
   "cell_type": "markdown",
   "source": [
    "---\n",
    "## Funções\n",
    "\n",
    "À medida que o código cresce, a complexidade também cresce. E as funções ajudam a organizar o código.\n",
    "As funções são uma maneira útil de criar blocos de código que você pode reutilizar.\n",
    "\n",
    "#### Definição e Chamada\n",
    "Em Python use a palavra-chave def para definir uma função.\n",
    "\n",
    "Deve-se dar um nome e usar parênteses para informar 0 ou mais argumentos.\n",
    "Na linha após o início da declaração, lembre-se de recuar o bloco de código.\n",
    "\n",
    "Aqui está um exemplo de uma função chamada minha_primeira_funcao() que imprime apenas uma frase 'Minha primeira função!'\n",
    "\n",
    "Para chamar a função basta usar seu nome, conforme definido."
   ],
   "metadata": {
    "collapsed": false
   },
   "id": "4835b58912cc5b32"
  },
  {
   "cell_type": "code",
   "outputs": [],
   "source": [
    "def minha_primeira_funcao():\n",
    "    print('Minha primeira função!')\n",
    "\n",
    "minha_primeira_funcao()"
   ],
   "metadata": {
    "collapsed": false
   },
   "id": "2b869199bf01355a",
   "execution_count": null
  },
  {
   "cell_type": "markdown",
   "source": [
    "#### Retornar um valor\n",
    "\n",
    "Use a palavra-chave return para retornar um valor da função.\n",
    "\n",
    "Neste exemplo abaixo, a função segunda_funcao() retorna a string 'Minha segunda função!'\n",
    "Note que print() é uma função embutida e nossa função é chamada de dentro dela.\n",
    "A string retornada pela second_function() é passada como um argumento para a função print()."
   ],
   "metadata": {
    "collapsed": false
   },
   "id": "2c4d58005abe8c5d"
  },
  {
   "cell_type": "code",
   "outputs": [],
   "source": [
    "def segunda_funcao():\n",
    "    return 'Minha segunda função!'\n",
    "\n",
    "print(segunda_funcao())\n"
   ],
   "metadata": {
    "collapsed": false
   },
   "id": "4d965082b3e97be3",
   "execution_count": null
  },
  {
   "cell_type": "markdown",
   "source": [
    "#### Retornar múltiplos valores\n",
    "\n",
    "Funções também podem retornar múltiplos valores ao mesmo tempo.\n",
    "\n",
    "retorna_numeros() retorna dois valores simultaneamente."
   ],
   "metadata": {
    "collapsed": false
   },
   "id": "277766587e44a14f"
  },
  {
   "cell_type": "code",
   "outputs": [],
   "source": [
    "def retorna_numeros():\n",
    "    return 10, 2\n",
    "\n",
    "print(retorna_numeros())"
   ],
   "metadata": {
    "collapsed": false
   },
   "id": "ea716e7b90327af3",
   "execution_count": null
  },
  {
   "cell_type": "markdown",
   "source": [
    "#### Argumentos\n",
    "\n",
    "Você pode definir parâmetros entre os parênteses.\n",
    "Ao chamar uma função com parâmetros você tem que passar argumentos de acordo com os parâmetros definidos.\n",
    "\n",
    "Os exemplos anteriores não tinham parâmetros, portanto, não havia necessidade de argumentos.\n",
    "Os parênteses permaneceram vazios quando as funções foram chamadas.\n",
    "\n",
    "#### Um argumento\n",
    "\n",
    "Para especificar um parâmetro, basta defini-lo dentro dos parênteses.\n",
    "Neste exemplo, a função meu_numero espera um número como argumento definido pelo número do parâmetro.\n",
    "O valor do argumento é então acessível dentro da função a ser utilizada."
   ],
   "metadata": {
    "collapsed": false
   },
   "id": "5a3079ffaaacb910"
  },
  {
   "cell_type": "code",
   "outputs": [],
   "source": [
    "def meu_numero(num):\n",
    "    return 'Meu número é: ' + str(num)\n",
    "\n",
    "print(meu_numero(10))"
   ],
   "metadata": {
    "collapsed": false
   },
   "id": "919bdc5a271fc3be",
   "execution_count": null
  },
  {
   "cell_type": "markdown",
   "source": [
    "#### Dois ou mais argumentos\n",
    "\n",
    "Para definir mais parâmetros, basta usar uma vírgula para separá-los.\n",
    "\n",
    "Aqui temos uma função adicionar que acrescenta dois números.\n",
    "Ela espera dois argumentos definidos por primeiro_numero e segundo_numero.\n",
    "Os argumentos são adicionados pelo operador + e o resultado é então retornado pelo return."
   ],
   "metadata": {
    "collapsed": false
   },
   "id": "7b7437bcf28b2081"
  },
  {
   "cell_type": "code",
   "outputs": [],
   "source": [
    "def adicionar(primeiro_numero, segundo_numero):\n",
    "    return primeiro_numero + segundo_numero\n",
    "\n",
    "print(adicionar(10, 2))"
   ],
   "metadata": {
    "collapsed": false
   },
   "id": "6c088c558a9bec5e",
   "execution_count": null
  },
  {
   "cell_type": "markdown",
   "source": [
    "Este exemplo é muito parecido com o último. A única diferença é que temos 3 parâmetros em vez de 2."
   ],
   "metadata": {
    "collapsed": false
   },
   "id": "211a481197de00ba"
  },
  {
   "cell_type": "code",
   "outputs": [],
   "source": [
    "def adicionar(primeiro_numero, segundo_numero, terceiro_numero):\n",
    "    return primeiro_numero + segundo_numero + terceiro_numero\n",
    "\n",
    "print(adicionar(10, 2, 3))"
   ],
   "metadata": {
    "collapsed": false
   },
   "id": "909b138935ce9afc",
   "execution_count": null
  },
  {
   "cell_type": "markdown",
   "source": [
    "Esta lógica de definir parâmetros e passar argumentos é a mesma para qualquer número de parâmetros.\n",
    "\n",
    "É importante ressaltar que os argumentos devem ser passados na mesma ordem em que os parâmetros são definidos.\n",
    "\n",
    "#### Valor padrão.\n",
    "\n",
    "Você pode definir um valor padrão para um parâmetro se nenhum argumento for dado usando o operador = e um valor de escolha.\n",
    "Nesta função, se nenhum argumento for dado, o número 30 é assumido como o valor esperado por padrão."
   ],
   "metadata": {
    "collapsed": false
   },
   "id": "fd2e9e8a00a2bc1e"
  },
  {
   "cell_type": "code",
   "outputs": [],
   "source": [
    "def meu_numero(meu_numero=30):\n",
    "    return 'Meu número é: ' + str(meu_numero)\n",
    "\n",
    "print(meu_numero(10))\n",
    "print(meu_numero())"
   ],
   "metadata": {
    "collapsed": false
   },
   "id": "f77c170dad40dad5",
   "execution_count": null
  },
  {
   "cell_type": "markdown",
   "source": [
    "#### Palavras-chave ou Argumentos nomeados\n",
    "\n",
    "Quando se chama uma função, a ordem dos argumentos tem que corresponder à ordem dos parâmetros.\n",
    "A alternativa é se você usar a palavra-chave ou argumentos nomeados.\n",
    "\n",
    "Ajuste os argumentos para seus respectivos parâmetros diretamente, usando o nome dos parâmetros e os operadores =.\n",
    "Este exemplo inverte os argumentos, mas a função funciona como esperado porque informamos qual valor vai para qual parâmetro pelo nome."
   ],
   "metadata": {
    "collapsed": false
   },
   "id": "2676b305e40ef8f7"
  },
  {
   "cell_type": "code",
   "outputs": [],
   "source": [
    "def meus_numeros(primeiro_numero, segundo_numero):\n",
    "    return 'Os números são: ' + str(primeiro_numero) + ' e ' + str(segundo_numero)\n",
    "\n",
    "print(meus_numeros(segundo_numero=30, primeiro_numero=10))"
   ],
   "metadata": {
    "collapsed": false
   },
   "id": "afbd7fe6b5648940",
   "execution_count": null
  },
  {
   "cell_type": "markdown",
   "source": [
    "#### Qualquer número de argumentos: *args \n",
    "\n",
    "Se você não quiser especificar o número de parâmetros, basta usar o * antes do nome do parâmetro. \n",
    "Em seguida, a função levará tantos argumentos quantos forem necessários.\n",
    "\n",
    "O nome do parâmetro pode ser qualquer coisa como *numbers, mas existe uma convenção em Python para usar *args para esta definição de um número variável de argumentos."
   ],
   "metadata": {
    "collapsed": false
   },
   "id": "ad1c3543a21eeacc"
  },
  {
   "cell_type": "code",
   "outputs": [],
   "source": [
    "def meus_numeros(*args):\n",
    "    for numero in args:\n",
    "        print(numero)\n",
    "\n",
    "meus_numeros(10, 2, 3)"
   ],
   "metadata": {
    "collapsed": false
   },
   "id": "c0412d18a0cd1f94",
   "execution_count": null
  },
  {
   "cell_type": "markdown",
   "source": [
    "#### Qualquer número de argumentos de palavra-chave ou nome: **kwargs\n",
    "\n",
    "Similar a *args, podemos usar **kwargs para passar tantos argumentos de palavras-chave quantos quisermos, desde que usemos **.\n",
    "\n",
    "Novamente, o nome poderia ser qualquer coisa como **numbers, mas **kwargs é uma convenção."
   ],
   "metadata": {
    "collapsed": false
   },
   "id": "cd806f3419dbe16"
  },
  {
   "cell_type": "code",
   "outputs": [],
   "source": [
    "def meus_numeros(**kwargs):\n",
    "    for chave, valor in kwargs.items():\n",
    "        print(chave)\n",
    "        print(valor)\n",
    "\n",
    "meus_numeros(primeiro_numero=30, segundo_numero=10)"
   ],
   "metadata": {
    "collapsed": false
   },
   "id": "fa4eaa07e2d5221a",
   "execution_count": null
  },
  {
   "cell_type": "markdown",
   "source": [
    "#### Outros tipos como argumentos\n",
    "\n",
    "Os exemplos anteriores usavam principalmente números, mas você pode passar qualquer tipo como argumento e eles serão tratados como tal dentro da função.\n",
    "\n",
    "Este exemplo toma como argumentos as strings."
   ],
   "metadata": {
    "collapsed": false
   },
   "id": "c8c3fe32fe9c8cb4"
  },
  {
   "cell_type": "code",
   "outputs": [],
   "source": [
    "def meu_esporte_favorito(sport):\n",
    "    print('Eu gosto de ' + sport)\n",
    "\n",
    "meu_esporte_favorito('futebol')\n",
    "meu_esporte_favorito('nadar')"
   ],
   "metadata": {
    "collapsed": false
   },
   "id": "db593f257540a879",
   "execution_count": null
  },
  {
   "cell_type": "markdown",
   "source": [
    "Esta função toma como argumento uma lista."
   ],
   "metadata": {
    "collapsed": false
   },
   "id": "6636e911efdb5dc3"
  },
  {
   "cell_type": "code",
   "outputs": [],
   "source": [
    "def meus_numeros(numeros):\n",
    "    for numero in numeros:\n",
    "        print(numero)\n",
    "\n",
    "meus_numeros([30, 10, 64, 92, 105])"
   ],
   "metadata": {
    "collapsed": false
   },
   "id": "da82d80e0efcf0c0",
   "execution_count": null
  },
  {
   "cell_type": "markdown",
   "source": [
    "---\n",
    "## Escopo\n",
    "\n",
    "O local onde uma variável é criada define sua disponibilidade para ser acessada e manipulada pelo resto do código.\n",
    "Este é conhecido como escopo.\n",
    "\n",
    "Há dois tipos de escopo: local e global.\n",
    "\n",
    "\n",
    "#### Escopo global\n",
    "\n",
    "Um escopo global permite que você use a variável em qualquer lugar em seu programa.\n",
    "Se sua variável estiver fora de uma função, ela tem escopo global por padrão."
   ],
   "metadata": {
    "collapsed": false
   },
   "id": "93ef9c8cfa25a54f"
  },
  {
   "cell_type": "code",
   "outputs": [],
   "source": [
    "nome = 'Conan'\n",
    "\n",
    "def imprime_nome():\n",
    "    print('Meu nome é ' + nome)\n",
    "\n",
    "imprime_nome()"
   ],
   "metadata": {
    "collapsed": false
   },
   "id": "b7f788810329668",
   "execution_count": null
  },
  {
   "cell_type": "markdown",
   "source": [
    "Note que a função poderia usar o nome da variável e imprimir 'Meu nome é Conan'.\n",
    "\n",
    "#### Escopo local\n",
    "\n",
    "Quando você declara uma variável dentro de uma função, ela só existe dentro dessa função e não pode ser acessada de fora."
   ],
   "metadata": {
    "collapsed": false
   },
   "id": "f7f67c845a68ceaf"
  },
  {
   "cell_type": "code",
   "outputs": [],
   "source": [
    "def imprime_nome():\n",
    "    nome = \"Conan\"\n",
    "    print('Meu nome é ' + nome)\n",
    "\n",
    "imprime_nome()"
   ],
   "metadata": {
    "collapsed": false
   },
   "id": "cc7899fa275c2140",
   "execution_count": null
  },
  {
   "cell_type": "markdown",
   "source": [
    "Neste próximo exemplo, o nome da variável foi declarado dentro da função, portanto a saída é a mesma de antes.\n",
    "Mas isto vai lançar um erro:"
   ],
   "metadata": {
    "collapsed": false
   },
   "id": "47ae6af343252b74"
  },
  {
   "cell_type": "code",
   "outputs": [],
   "source": [
    "def imprime_nome():\n",
    "    nome2 = 'Conan'\n",
    "    print('Meu nome é ' + nome2)\n",
    "\n",
    "print(nome2)"
   ],
   "metadata": {
    "collapsed": false
   },
   "id": "536e550abe69d11e",
   "execution_count": null
  },
  {
   "cell_type": "markdown",
   "source": [
    "Tentei imprimir o nome da variável de fora da função, mas o escopo da variável era local e não podia ser encontrado em um escopo global.\n",
    "\n",
    "Se você usar o mesmo nome para variáveis dentro e fora de uma função, a função usará a que está dentro de seu escopo.\n",
    "Então quando você chama imprime_nome(), o nome='Conan' é usado para imprimir a frase.\n",
    "Por outro lado, ao chamar print() fora do escopo da função, nome=\"Xena\" é usado por causa de seu escopo global."
   ],
   "metadata": {
    "collapsed": false
   },
   "id": "22bc0f4c8c9e3d1a"
  },
  {
   "cell_type": "code",
   "outputs": [],
   "source": [
    "nome = \"Xena\"\n",
    "\n",
    "def imprime_nome():\n",
    "    nome = 'Conan'\n",
    "    print('Meu nome é ' + nome)\n",
    "\n",
    "imprime_nome()\n",
    "print(nome)"
   ],
   "metadata": {
    "collapsed": false
   },
   "id": "772ffdba3732b1aa",
   "execution_count": null
  },
  {
   "cell_type": "markdown",
   "source": [
    "---\n",
    "## Módulos\n",
    "\n",
    "Após algum tempo, seu código começa a ficar mais complexo com muitas funções e variáveis.\n",
    "Para facilitar a organização do código, usamos os Módulos.\n",
    "\n",
    "Um Módulo bem projetado também tem a vantagem de ser reutilizável, assim você escreve o código uma vez e o reutiliza em todos os lugares.\n",
    "Você pode escrever um módulo com todas as operações matemáticas e outras pessoas podem usá-lo.\n",
    "E, se você precisar, pode usar os módulos de outra pessoa para simplificar seu código, acelerando seu projeto.\n",
    "Em outras linguagens de programação, estas também são chamadas de bibliotecas.\n",
    "\n",
    "\n",
    "#### Usando um módulo\n",
    "\n",
    "Para usar um módulo, usamos a palavra-chave importação.\n",
    "Como o nome implica, temos que dizer a nosso programa qual módulo importar.\n",
    "Depois disso, podemos usar qualquer função disponível nesse módulo.\n",
    "\n",
    "Vamos ver um exemplo usando o módulo de matemática.\n",
    "Primeiro, vamos ver como ter acesso a uma constante, o número do Euler."
   ],
   "metadata": {
    "collapsed": false
   },
   "id": "151246ddd883832"
  },
  {
   "cell_type": "code",
   "outputs": [],
   "source": [
    "import math\n",
    "\n",
    "print(math.e)"
   ],
   "metadata": {
    "collapsed": false
   },
   "id": "d40b8f01a08c2dbf",
   "execution_count": null
  },
  {
   "cell_type": "markdown",
   "source": [
    "Neste segundo exemplo, vamos usar uma função que calcula a raiz quadrada de um número.\n",
    "Também é possível usar a palavra-chave para criar um pseudônimo."
   ],
   "metadata": {
    "collapsed": false
   },
   "id": "ec5b973a0013d08f"
  },
  {
   "cell_type": "code",
   "outputs": [],
   "source": [
    "import math as m\n",
    "\n",
    "print(m.sqrt(121))\n",
    "print(m.sqrt(729))"
   ],
   "metadata": {
    "collapsed": false
   },
   "id": "92a54cf91c4731f4",
   "execution_count": null
  },
  {
   "cell_type": "markdown",
   "source": [
    "Finalmente, usando a palavra-chave from, podemos especificar exatamente o que importar em vez de todo o módulo e usar a função diretamente sem o nome do módulo.\n",
    "\n",
    "Este exemplo usa a função floor() que retorna o maior número inteiro menor ou igual a um determinado número."
   ],
   "metadata": {
    "collapsed": false
   },
   "id": "1e63994c79d13c06"
  },
  {
   "cell_type": "code",
   "outputs": [],
   "source": [
    "from math import floor\n",
    "\n",
    "print(floor(9.8923))"
   ],
   "metadata": {
    "collapsed": false
   },
   "id": "ccf142239a2a6c24",
   "execution_count": null
  },
  {
   "cell_type": "markdown",
   "source": [
    "Se você tem curiosidade sobre como criar um módulo, acesse: https://www.freecodecamp.org/news/the-python-guide-for-beginners/#creatingamodule"
   ],
   "metadata": {
    "collapsed": false
   },
   "id": "ed00e40ff1e40296"
  }
 ],
 "metadata": {
  "kernelspec": {
   "display_name": "Python 3",
   "language": "python",
   "name": "python3"
  },
  "language_info": {
   "codemirror_mode": {
    "name": "ipython",
    "version": 2
   },
   "file_extension": ".py",
   "mimetype": "text/x-python",
   "name": "python",
   "nbconvert_exporter": "python",
   "pygments_lexer": "ipython2",
   "version": "2.7.6"
  }
 },
 "nbformat": 4,
 "nbformat_minor": 5
}
